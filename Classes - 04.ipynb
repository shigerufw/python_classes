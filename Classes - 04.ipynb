{
 "cells": [
  {
   "cell_type": "markdown",
   "metadata": {},
   "source": [
    "<h4>In this notebook we're going to see :</h4>\n",
    "<ul>\n",
    "    <li>Class Inheritances</li>\n",
    "    \n",
    "    \n",
    "</ul>"
   ]
  },
  {
   "cell_type": "markdown",
   "metadata": {},
   "source": [
    "Creating new develpoers and managers sub classes"
   ]
  },
  {
   "cell_type": "code",
   "execution_count": 1,
   "metadata": {},
   "outputs": [],
   "source": [
    "class Employee:\n",
    "    raise_amt = 1.04\n",
    "    num_of_emps = 0\n",
    "    \n",
    "    def __init__(self, first, last, pay):\n",
    "        self.first = first\n",
    "        self.last = last\n",
    "        self.pay = pay\n",
    "        self.email = first + \".\" + last + \"@company.com\" \n",
    "        Employee.num_of_emps +=1\n",
    "    \n",
    "    #class method // regular method\n",
    "    def fullname(self):\n",
    "        return '{} {}'.format(self.first, self.last)\n",
    "    \n",
    "    def apply_raise(self):\n",
    "        self.pay = int(self.pay* Employee.raise_amt) #4% raise\n",
    "        #self.pay = int(self.pay* self.raise_amount) #4% raise\n",
    "        \n",
    "    @classmethod #<< decorator\n",
    "    \n",
    "    def set_raise_amt(cls,amount):\n",
    "        cls.raise_amt = amount\n",
    "        pass\n",
    "    \n",
    "    @classmethod\n",
    "    #creating an alternative constructor\n",
    "    def from_string(cls, emp_str):\n",
    "        first, last, pay = emp_str.split('-')\n",
    "        return cls(first,last,pay)"
   ]
  },
  {
   "cell_type": "code",
   "execution_count": 2,
   "metadata": {},
   "outputs": [],
   "source": [
    "class Developer(Employee):\n",
    "    pass"
   ]
  },
  {
   "cell_type": "code",
   "execution_count": 3,
   "metadata": {},
   "outputs": [
    {
     "name": "stdout",
     "output_type": "stream",
     "text": [
      "{'first': 'Fernando', 'last': 'ABCD', 'pay': 9000, 'email': 'Fernando.ABCD@company.com'}\n",
      "{'first': 'Test', 'last': 'Test@Test', 'pay': 10000, 'email': 'Test.Test@Test@company.com'}\n"
     ]
    }
   ],
   "source": [
    "dev_1 = Employee('Fernando', 'ABCD', 9000)\n",
    "dev_2 = Developer('Test', 'Test@Test', 10000)\n",
    "\n",
    "print(dev_1.__dict__)\n",
    "print(dev_2.__dict__)"
   ]
  },
  {
   "cell_type": "code",
   "execution_count": 4,
   "metadata": {},
   "outputs": [],
   "source": [
    "class Developer(Employee):\n",
    "    raise_amt =1.1"
   ]
  },
  {
   "cell_type": "code",
   "execution_count": 5,
   "metadata": {},
   "outputs": [],
   "source": [
    "dev_1.apply_raise()"
   ]
  },
  {
   "cell_type": "code",
   "execution_count": 6,
   "metadata": {},
   "outputs": [
    {
     "data": {
      "text/plain": [
       "9360"
      ]
     },
     "execution_count": 6,
     "metadata": {},
     "output_type": "execute_result"
    }
   ],
   "source": [
    "dev_1.pay"
   ]
  },
  {
   "cell_type": "markdown",
   "metadata": {},
   "source": [
    "### passing another atribute"
   ]
  },
  {
   "cell_type": "code",
   "execution_count": 7,
   "metadata": {},
   "outputs": [],
   "source": [
    "class Developer(Employee):\n",
    "    raise_amt =1.1\n",
    "    \n",
    "    def __init__(self, first, last, pay, prog_lang):\n",
    "        super().__init__(first,last,pay) #Employee class handle the first already build ones\n",
    "        self.prog_lang = prog_lang\n",
    "        "
   ]
  },
  {
   "cell_type": "code",
   "execution_count": 8,
   "metadata": {},
   "outputs": [],
   "source": [
    "dev_3 = Developer(\"test1\", \"test1\", 222, \"python\")"
   ]
  },
  {
   "cell_type": "code",
   "execution_count": 9,
   "metadata": {},
   "outputs": [
    {
     "data": {
      "text/plain": [
       "'python'"
      ]
     },
     "execution_count": 9,
     "metadata": {},
     "output_type": "execute_result"
    }
   ],
   "source": [
    "dev_3.prog_lang"
   ]
  },
  {
   "cell_type": "code",
   "execution_count": 10,
   "metadata": {},
   "outputs": [],
   "source": [
    "class Manager(Employee):\n",
    "    def __init__(self, first, last, pay, employees = None):\n",
    "        super().__init__(first,last,pay) #Employee class handle the first already build ones\n",
    "        if employees is None:\n",
    "            self.employees = []\n",
    "        else:\n",
    "            self.employees = employees\n",
    "            \n",
    "    def add_emp(self, emp):\n",
    "        if emp not in self.employees:\n",
    "            self.employees.append(emp)\n",
    "            \n",
    "    def remove_emp(self, emp):\n",
    "        if emp in self.employees:\n",
    "            self.employees.remove(emp)\n",
    "            \n",
    "    def print_emps(self):\n",
    "        for emp in self.employees:\n",
    "            print('-->', emp.fullname())"
   ]
  },
  {
   "cell_type": "code",
   "execution_count": 11,
   "metadata": {},
   "outputs": [],
   "source": [
    "mgr_1 = Manager('sue','smith',3000,[dev_3])"
   ]
  },
  {
   "cell_type": "code",
   "execution_count": 12,
   "metadata": {},
   "outputs": [
    {
     "name": "stdout",
     "output_type": "stream",
     "text": [
      "--> test1 test1\n"
     ]
    }
   ],
   "source": [
    "mgr_1.print_emps()"
   ]
  },
  {
   "cell_type": "code",
   "execution_count": 13,
   "metadata": {},
   "outputs": [
    {
     "name": "stdout",
     "output_type": "stream",
     "text": [
      "--> test1 test1\n",
      "--> Fernando ABCD\n"
     ]
    }
   ],
   "source": [
    "mgr_1.add_emp(dev_1)\n",
    "mgr_1.print_emps()"
   ]
  }
 ],
 "metadata": {
  "kernelspec": {
   "display_name": "Python 3",
   "language": "python",
   "name": "python3"
  },
  "language_info": {
   "codemirror_mode": {
    "name": "ipython",
    "version": 3
   },
   "file_extension": ".py",
   "mimetype": "text/x-python",
   "name": "python",
   "nbconvert_exporter": "python",
   "pygments_lexer": "ipython3",
   "version": "3.7.3"
  }
 },
 "nbformat": 4,
 "nbformat_minor": 4
}
